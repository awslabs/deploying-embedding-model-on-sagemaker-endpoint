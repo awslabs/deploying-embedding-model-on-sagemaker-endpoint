{
 "cells": [
  {
   "cell_type": "markdown",
   "source": [
    "# Deploy Container Image\n",
    "| This guide explains how to register a custom container image pushed to ECR as a Sagemaker Endpoint.\n",
    "\n",
    "\n",
    "## Overview\n",
    "Registering a custom container image as a Sagemaker Endpoint consists of three steps:\n",
    "\n",
    "1. Register Sagemaker Model\n",
    "2. Register Sagemaker Endpoint Config\n",
    "3. Register Sagemaker Endpoint"
   ],
   "metadata": {
    "collapsed": false
   }
  },
  {
   "cell_type": "code",
   "execution_count": null,
   "outputs": [],
   "source": [
    "import boto3\n",
    "client = boto3.client('sagemaker')"
   ],
   "metadata": {
    "collapsed": false,
    "pycharm": {
     "name": "#%%\n"
    }
   }
  },
  {
   "cell_type": "code",
   "execution_count": null,
   "outputs": [],
   "source": [
    "# Create Sagemaker Model\n",
    "create_model_response = client.create_model(\n",
    "    ModelName='<SAGEMAKER_MODEL_NAME>', # ex) sm-dummy-inference-model\n",
    "    PrimaryContainer={ #\n",
    "        'Image': '<ECR_REPO_URI>', # ex) 9803771.dkr.ecr.ap-northeast-2.amazonaws.com/dummy-inference-model',\n",
    "        'Environment': { }\n",
    "    },\n",
    "    ExecutionRoleArn='<IAM_ROLE_AmazonSagemakerFullAccess>' # ex) arn:aws:iam::980377:role/service-role/AmazonSageMaker-ExecutionRole-20231127T170565'\n",
    ")\n",
    "\n",
    "print(\"create model response:\", create_model_response)"
   ],
   "metadata": {
    "collapsed": false
   }
  },
  {
   "cell_type": "code",
   "execution_count": null,
   "outputs": [],
   "source": [
    "# Create Sagemaker Endpoint Config\n",
    "create_endpoint_config_response = client.create_endpoint_config(\n",
    "    EndpointConfigName='<ENDPOINT_CONFIG_NAME>', # ex) dummy-inference-serve-config',\n",
    "    ProductionVariants=[\n",
    "        {\n",
    "            'ModelName': '<SAGEMAKER_MODEL_NAME>', # ex) sm-dummy-inference-model\n",
    "            'VariantName': '<VARIENT_NAME>', # ex) variant-sm-dummy-inference-model-1\n",
    "            'InitialInstanceCount': 1,\n",
    "            'InstanceType': 'ml.m4.xlarge'\n",
    "        }\n",
    "    ]\n",
    ")\n",
    "\n",
    "print('create endpoint config response:', create_endpoint_config_response)"
   ],
   "metadata": {
    "collapsed": false
   }
  },
  {
   "cell_type": "code",
   "execution_count": null,
   "outputs": [],
   "source": [
    "# Create Sagemaker Endpoint\n",
    "create_endpoint_response = client.create_endpoint(\n",
    "    EndpointName='<ENDPOINT_NAME>', # ex) dummy-inference-serve',\n",
    "    EndpointConfigName='<ENDPOINT_CONFIG_NAME>', # ex) dummy-inference-serve-config'\n",
    ")\n",
    "\n",
    "print('create endpoint response: ', create_endpoint_response)"
   ],
   "metadata": {
    "collapsed": false
   }
  },
  {
   "cell_type": "code",
   "execution_count": null,
   "outputs": [],
   "source": [
    "# Calling Sagemaker Endpoint\n",
    "sagemaker_runtime = boto3.client(\"runtime.sagemaker\")\n",
    "inference_response = sagemaker_runtime.invoke_endpoint(\n",
    "    EndpointName='<ENDPOINT_NAME>',\n",
    "    Body=\"Hello World\"\n",
    ")\n",
    "\n",
    "response_str = inference_response[\"Body\"].read().decode()\n",
    "print(response_str)"
   ],
   "metadata": {
    "collapsed": false
   }
  }
 ],
 "metadata": {
  "kernelspec": {
   "display_name": "Python 3",
   "language": "python",
   "name": "python3"
  },
  "language_info": {
   "codemirror_mode": {
    "name": "ipython",
    "version": 2
   },
   "file_extension": ".py",
   "mimetype": "text/x-python",
   "name": "python",
   "nbconvert_exporter": "python",
   "pygments_lexer": "ipython2",
   "version": "2.7.6"
  }
 },
 "nbformat": 4,
 "nbformat_minor": 0
}
